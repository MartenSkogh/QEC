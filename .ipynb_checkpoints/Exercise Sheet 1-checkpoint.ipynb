{
 "cells": [
  {
   "cell_type": "code",
   "execution_count": 53,
   "metadata": {},
   "outputs": [],
   "source": [
    "using LinearAlgebra"
   ]
  },
  {
   "cell_type": "code",
   "execution_count": 118,
   "metadata": {},
   "outputs": [
    {
     "data": {
      "text/plain": [
       "128-element Array{Float64,1}:\n",
       " 0.35355339059327373\n",
       " 0.0\n",
       " 0.0\n",
       " 0.0\n",
       " 0.0\n",
       " 0.0\n",
       " 0.0\n",
       " 0.0\n",
       " 0.0\n",
       " 0.0\n",
       " 0.0\n",
       " 0.0\n",
       " 0.0\n",
       " ⋮\n",
       " 0.0\n",
       " 0.0\n",
       " 0.0\n",
       " 0.0\n",
       " 0.35355339059327373\n",
       " 0.0\n",
       " 0.0\n",
       " 0.0\n",
       " 0.0\n",
       " 0.0\n",
       " 0.0\n",
       " 0.0"
      ]
     },
     "execution_count": 118,
     "metadata": {},
     "output_type": "execute_result"
    }
   ],
   "source": [
    "logical_zero = [0 for n in 1:2^7]\n",
    "logical_zero[0b0000000+1] = 1\n",
    "logical_zero[0b1111000+1] = 1\n",
    "logical_zero[0b0110110+1] = 1\n",
    "logical_zero[0b0011011+1] = 1\n",
    "logical_zero[0b1001110+1] = 1\n",
    "logical_zero[0b0101101+1] = 1\n",
    "logical_zero[0b1100011+1] = 1\n",
    "logical_zero[0b1010101+1] = 1\n",
    "logical_zero = logical_zero/sqrt(8)"
   ]
  },
  {
   "cell_type": "code",
   "execution_count": 119,
   "metadata": {},
   "outputs": [
    {
     "data": {
      "text/plain": [
       "0.9999999999999999"
      ]
     },
     "execution_count": 119,
     "metadata": {},
     "output_type": "execute_result"
    }
   ],
   "source": [
    "logical_one = [0 for n in 1:2^7]\n",
    "logical_one[0b1111111 - 0b0000000+1] = 1\n",
    "logical_one[0b1111111 - 0b1111000+1] = 1\n",
    "logical_one[0b1111111 - 0b0110110+1] = 1\n",
    "logical_one[0b1111111 - 0b0011011+1] = 1\n",
    "logical_one[0b1111111 - 0b1001110+1] = 1\n",
    "logical_one[0b1111111 - 0b0101101+1] = 1\n",
    "logical_one[0b1111111 - 0b1100011+1] = 1\n",
    "logical_one[0b1111111 - 0b1010101+1] = 1\n",
    "logical_one = logical_one/sqrt(8)"
   ]
  },
  {
   "cell_type": "code",
   "execution_count": 56,
   "metadata": {},
   "outputs": [
    {
     "data": {
      "text/plain": [
       "make_operator (generic function with 1 method)"
      ]
     },
     "execution_count": 56,
     "metadata": {},
     "output_type": "execute_result"
    }
   ],
   "source": [
    "function make_operator(op_order)\n",
    "    op = 1\n",
    "    for oo in op_order\n",
    "        op = kron(op,oo)\n",
    "    end\n",
    "    return op\n",
    "end"
   ]
  },
  {
   "cell_type": "code",
   "execution_count": 57,
   "metadata": {},
   "outputs": [
    {
     "data": {
      "text/plain": [
       "make_pauli_operator (generic function with 1 method)"
      ]
     },
     "execution_count": 57,
     "metadata": {},
     "output_type": "execute_result"
    }
   ],
   "source": [
    "# [X, X, X, X, I, I, I]\n",
    "function make_pauli_operator(op_order)\n",
    "    X = [0 1; 1 0]\n",
    "    Y = [0 -1im; 1im 0]\n",
    "    Z =[1 0; 0 -1]\n",
    "    id = Matrix{Int}(I, 2, 2)\n",
    "    \n",
    "    paulis = Dict('I' => id, 'X' => X, 'Y' => Y, 'Z' => Z)\n",
    "    \n",
    "    new_op_order = [paulis[op] for op in op_order]\n",
    "    return make_operator(new_op_order)\n",
    "end"
   ]
  },
  {
   "cell_type": "code",
   "execution_count": 109,
   "metadata": {},
   "outputs": [
    {
     "data": {
      "text/plain": [
       "s (generic function with 1 method)"
      ]
     },
     "execution_count": 109,
     "metadata": {},
     "output_type": "execute_result"
    }
   ],
   "source": [
    "function s(n, Q)\n",
    "    if n == 1\n",
    "        op_order = [ Q,   Q,  Q,  Q, 'I', 'I', 'I']\n",
    "    elseif n == 2\n",
    "        op_order = ['I',  Q,  Q, 'I', Q,   Q,  'I']\n",
    "    elseif n == 3\n",
    "        op_order = ['I', 'I', Q,  Q, 'I',  Q,   Q]\n",
    "    end \n",
    "    \n",
    "    return make_pauli_operator(op_order)\n",
    "end"
   ]
  },
  {
   "cell_type": "code",
   "execution_count": 110,
   "metadata": {},
   "outputs": [],
   "source": [
    "s1z = s(1, 'Z'); s1x = s(1, 'X');\n",
    "s2z = s(2, 'Z'); s2x = s(2, 'X');\n",
    "s3z = s(3, 'Z'); s3x = s(3, 'X');"
   ]
  },
  {
   "cell_type": "code",
   "execution_count": 163,
   "metadata": {},
   "outputs": [
    {
     "data": {
      "text/plain": [
       "syndrome (generic function with 2 methods)"
      ]
     },
     "execution_count": 163,
     "metadata": {},
     "output_type": "execute_result"
    }
   ],
   "source": [
    "function m(op, state) # measure <state|op|state>\n",
    "    return op * state\n",
    "end\n",
    "\n",
    "function syndrome(error)\n",
    "    return [s1x * error == error * s1x ? 1 : -1, \n",
    "            s2x * error == error * s2x ? 1 : -1, \n",
    "            s3x * error == error * s3x ? 1 : -1, \n",
    "            s1z * error == error * s1z ? 1 : -1, \n",
    "            s2z * error == error * s2z ? 1 : -1, \n",
    "            s3z * error == error * s3z ? 1 : -1]\n",
    "end"
   ]
  },
  {
   "cell_type": "code",
   "execution_count": 164,
   "metadata": {},
   "outputs": [],
   "source": [
    "logical_X = make_pauli_operator(['X','X','X','X','X','X','X']);\n",
    "logical_Z = make_pauli_operator(['Z','Z','Z','Z','Z','Z','Z']);"
   ]
  },
  {
   "cell_type": "code",
   "execution_count": 165,
   "metadata": {},
   "outputs": [
    {
     "name": "stdout",
     "output_type": "stream",
     "text": [
      "X|0> =  |1> is true\n",
      "X|1> =  |0> is true\n",
      "Z|0> =  |0> is true\n",
      "Z|1> = -|1> is true\n"
     ]
    }
   ],
   "source": [
    "println(\"X|0> =  |1> is \", logical_X * logical_zero == logical_one)\n",
    "println(\"X|1> =  |0> is \", logical_X * logical_one == logical_zero)\n",
    "println(\"Z|0> =  |0> is \", logical_Z * logical_zero == logical_zero)\n",
    "println(\"Z|1> = -|1> is \", logical_Z * logical_one == -logical_one)"
   ]
  },
  {
   "cell_type": "code",
   "execution_count": 180,
   "metadata": {},
   "outputs": [
    {
     "name": "stdout",
     "output_type": "stream",
     "text": [
      "X1 = [1, 1, 1, -1, 1, 1]\n",
      "X2 = [1, 1, 1, -1, -1, 1]\n",
      "X3 = [1, 1, 1, -1, -1, -1]\n",
      "X4 = [1, 1, 1, -1, 1, -1]\n",
      "X5 = [1, 1, 1, 1, -1, 1]\n",
      "X6 = [1, 1, 1, 1, -1, -1]\n",
      "X7 = [1, 1, 1, 1, 1, -1]\n",
      "Z1 = [-1, 1, 1, 1, 1, 1]\n",
      "Z2 = [-1, -1, 1, 1, 1, 1]\n",
      "Z3 = [-1, -1, -1, 1, 1, 1]\n",
      "Z4 = [-1, 1, -1, 1, 1, 1]\n",
      "Z5 = [1, -1, 1, 1, 1, 1]\n",
      "Z6 = [1, -1, -1, 1, 1, 1]\n",
      "Z7 = [1, 1, -1, 1, 1, 1]\n",
      "Y1 = [-1, 1, 1, -1, 1, 1]\n",
      "Y2 = [-1, -1, 1, -1, -1, 1]\n",
      "Y3 = [-1, -1, -1, -1, -1, -1]\n",
      "Y4 = [-1, 1, -1, -1, 1, -1]\n",
      "Y5 = [1, -1, 1, 1, -1, 1]\n",
      "Y6 = [1, -1, -1, 1, -1, -1]\n",
      "Y7 = [1, 1, -1, 1, 1, -1]\n"
     ]
    }
   ],
   "source": [
    "identity_arr = ['I', 'I', 'I', 'I', 'I', 'I', 'I']\n",
    "minimum_error = Dict{String, String}()\n",
    "for i in 1:length(identity_arr)\n",
    "    E = copy(identity_arr)\n",
    "    E[i] = 'X'\n",
    "    E = make_pauli_operator(E)\n",
    "    syn = syndrome(E)\n",
    "    minimum_error[join(syn)] = \"X$(i)\"\n",
    "    println(\"X$(i) = $(syn)\")\n",
    "end\n",
    "for i in 1:length(identity_arr)\n",
    "    E = copy(identity_arr)\n",
    "    E[i] = 'Z'\n",
    "    E = make_pauli_operator(E)\n",
    "    syn = syndrome(E)\n",
    "    minimum_error[join(syn)] = \"Z$(i)\"\n",
    "    println(\"Z$(i) = $(syn)\")\n",
    "end\n",
    "for i in 1:length(identity_arr)\n",
    "    E = copy(identity_arr)\n",
    "    E[i] = 'Y'\n",
    "    E = make_pauli_operator(E)\n",
    "    syn = syndrome(E)\n",
    "    minimum_error[join(syn)] = \"Y$(i)\"\n",
    "    println(\"Y$(i) = $(syn)\")\n",
    "end"
   ]
  },
  {
   "cell_type": "code",
   "execution_count": 204,
   "metadata": {},
   "outputs": [
    {
     "name": "stdout",
     "output_type": "stream",
     "text": [
      "Y1     => [-1, 1, 1, -1, 1, 1] => Y1\n",
      "X1Z2   => [-1, -1, 1, -1, 1, 1] => -\n",
      "Y1Z2   => [1, -1, 1, -1, 1, 1] => -\n",
      "X1X2X3 => [1, 1, 1, -1, 1, -1] => X4\n",
      "X1X2   => [1, 1, 1, 1, -1, 1] => X5\n",
      "Z1Z2   => [1, -1, 1, 1, 1, 1] => Z5\n"
     ]
    }
   ],
   "source": [
    "Y1     = make_pauli_operator(['Y', 'I', 'I', 'I', 'I', 'I', 'I'])\n",
    "X1Z2   = make_pauli_operator(['X', 'Z', 'I', 'I', 'I', 'I', 'I'])\n",
    "Y1Z2   = make_pauli_operator(['Y', 'Z', 'I', 'I', 'I', 'I', 'I'])\n",
    "X1X2X3 = make_pauli_operator(['X', 'X', 'X', 'I', 'I', 'I', 'I'])\n",
    "X1X2   = make_pauli_operator(['X', 'X', 'I', 'I', 'I', 'I', 'I'])\n",
    "Z1Z2   = make_pauli_operator(['Z', 'Z', 'I', 'I', 'I', 'I', 'I'])\n",
    "\n",
    "println(\"Y1     => $(syndrome(Y1    )) => $(get(minimum_error, join(syndrome(Y1    )), '-'))\")\n",
    "println(\"X1Z2   => $(syndrome(X1Z2  )) => $(get(minimum_error, join(syndrome(X1Z2  )), '-'))\")\n",
    "println(\"Y1Z2   => $(syndrome(Y1Z2  )) => $(get(minimum_error, join(syndrome(Y1Z2  )), '-'))\")\n",
    "println(\"X1X2X3 => $(syndrome(X1X2X3)) => $(get(minimum_error, join(syndrome(X1X2X3)), '-'))\")\n",
    "println(\"X1X2   => $(syndrome(X1X2  )) => $(get(minimum_error, join(syndrome(X1X2  )), '-'))\")\n",
    "println(\"Z1Z2   => $(syndrome(Z1Z2  )) => $(get(minimum_error, join(syndrome(Z1Z2  )), '-'))\")\n"
   ]
  }
 ],
 "metadata": {
  "kernelspec": {
   "display_name": "Julia 1.4.1",
   "language": "julia",
   "name": "julia-1.4"
  },
  "language_info": {
   "file_extension": ".jl",
   "mimetype": "application/julia",
   "name": "julia",
   "version": "1.4.1"
  }
 },
 "nbformat": 4,
 "nbformat_minor": 4
}
